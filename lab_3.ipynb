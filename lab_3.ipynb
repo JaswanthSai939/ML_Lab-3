{
 "cells": [
  {
   "cell_type": "code",
   "execution_count": 10,
   "metadata": {},
   "outputs": [
    {
     "name": "stdout",
     "output_type": "stream",
     "text": [
      "Dimensionality of the vector space: 3\n",
      "Number of vectors in the vector space: 10\n",
      "Rank of Matrix A: 3\n",
      "Cost of each product using Pseudo-Inverse:\n",
      "[ 1. 55. 18.]\n"
     ]
    }
   ],
   "source": [
    "import numpy as np\n",
    "import pandas as pd\n",
    "df = pd.read_excel(r'C:\\Users\\sai jaswanth\\Downloads\\Lab Session1 Data.xlsx', sheet_name='Purchase data')\n",
    "A = df.iloc[:, 1:4]\n",
    "C = df.iloc[:, 4]\n",
    "dimensionality = A.shape[1]\n",
    "num_vectors = A.shape[0]\n",
    "rank_A = np.linalg.matrix_rank(A)\n",
    "A_pseudo_inverse = np.linalg.pinv(A)\n",
    "cost_per_product = np.dot(A_pseudo_inverse, C)\n",
    "print(\"Dimensionality of the vector space:\", dimensionality)\n",
    "print(\"Number of vectors in the vector space:\", num_vectors)\n",
    "print(\"Rank of Matrix A:\", rank_A)\n",
    "print(\"Cost of each product using Pseudo-Inverse:\")\n",
    "print(cost_per_product)"
   ]
  }
 ],
 "metadata": {
  "kernelspec": {
   "display_name": "Python 3",
   "language": "python",
   "name": "python3"
  },
  "language_info": {
   "codemirror_mode": {
    "name": "ipython",
    "version": 3
   },
   "file_extension": ".py",
   "mimetype": "text/x-python",
   "name": "python",
   "nbconvert_exporter": "python",
   "pygments_lexer": "ipython3",
   "version": "3.11.8"
  }
 },
 "nbformat": 4,
 "nbformat_minor": 2
}
